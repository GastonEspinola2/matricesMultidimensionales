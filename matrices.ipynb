{
 "cells": [
  {
   "cell_type": "code",
   "execution_count": null,
   "metadata": {},
   "outputs": [
    {
     "name": "stdout",
     "output_type": "stream",
     "text": [
      "\n",
      "Cargar nueva persona:\n",
      "\n",
      "Cargar nueva persona:\n",
      "Datos cargados:\n",
      "['gas', 'gas', '23', ['23', '23']]\n",
      "['as', 'as', '23', ['24', '24', '24']]\n"
     ]
    }
   ],
   "source": [
    "def cargar_persona():\n",
    "    nombre = input(\"Ingrese el nombre: \")\n",
    "    apellido = input(\"Ingrese el apellido: \")\n",
    "    dni = input(\"Ingrese el DNI: \")\n",
    "    \n",
    "    telefonos = []\n",
    "    \n",
    "    while True:\n",
    "        telefono = input(\"Ingrese un número de teléfono (o 'fin' para terminar): \")\n",
    "        if telefono.lower() == 'fin':\n",
    "            break\n",
    "        \n",
    "        telefonos.append(telefono)\n",
    "    \n",
    "    return [nombre, apellido, dni, telefonos]\n",
    "\n",
    "def mostrar_personas(personas):\n",
    "    print(\"Datos cargados:\")\n",
    "    for persona in personas:\n",
    "        print(persona)\n",
    "\n",
    "\n",
    "personas = []\n",
    "while True:\n",
    "    print(\"Cargar nueva persona:\")\n",
    "    persona = cargar_persona()\n",
    "    personas.append(persona)\n",
    "    \n",
    "    continuar = input(\"¿Desea cargar otra persona? (s/n): \")\n",
    "    if continuar.lower() != 's':\n",
    "        break\n",
    "\n",
    "mostrar_personas(personas)\n"
   ]
  }
 ],
 "metadata": {
  "kernelspec": {
   "display_name": "Python 3",
   "language": "python",
   "name": "python3"
  },
  "language_info": {
   "codemirror_mode": {
    "name": "ipython",
    "version": 3
   },
   "file_extension": ".py",
   "mimetype": "text/x-python",
   "name": "python",
   "nbconvert_exporter": "python",
   "pygments_lexer": "ipython3",
   "version": "3.13.2"
  }
 },
 "nbformat": 4,
 "nbformat_minor": 2
}
